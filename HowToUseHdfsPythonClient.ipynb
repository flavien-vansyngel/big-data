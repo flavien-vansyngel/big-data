{
 "cells": [
  {
   "cell_type": "markdown",
   "metadata": {},
   "source": [
    "# How to use the hdfs python client in a Kerberised cluster"
   ]
  },
  {
   "cell_type": "markdown",
   "metadata": {},
   "source": [
    "Check if the packages `hdfs` and `requests_kerberos` are installed (actually `requests_kerberos` might not be need, to be checked).<br>\n",
    "If not, install them with `pip`.<br>\n",
    "*WARNING:* use the `pip` of the python distribution you're going to use<br>\n",
    "&ensp;&ensp;&ensp;&ensp;`$ /path/to/anaconda3-4.3.1/bin/pip install hdfs`<br>\n",
    "&ensp;&ensp;&ensp;&ensp;`$ /path/to/anaconda3-4.3.1/bin/pip install requests_kerberos`\n",
    "\n",
    "Create a `.hdfscli.cfg` file in the home directory of the user that is going to execute the python script.<br>\n",
    "This file contains some configuration of the client.<br>\n",
    "&ensp;&ensp;&ensp;&ensp;`$ cd /home/myuser`<br>\n",
    "&ensp;&ensp;&ensp;&ensp;`$ vi .hdfscli.cfg`<br>\n",
    "\n",
    "Put the following in the file (don't put any `user=` in the `dev.alias` section):<br>\n",
    "\n",
    "`[global]`<br>\n",
    "`default.alias = dev`<br>\n",
    "`autoload.modules = hdfs.ext.kerberos`\n",
    "\n",
    "`[dev.alias]`<br>\n",
    "`client = KerberosClient`<br>\n",
    "`url = http://nn-machine.my.com:50070`\n",
    "\n",
    "Check that after creation the user has permission to read/write the config file.\n",
    "\n",
    "Then with the python in which the `hdfs` and `requests_kerberos` packages are installed you can access HDFS through webhdfs<br>\n",
    "&ensp;&ensp;&ensp;&ensp;`$ kinit -kt /etc/security/keytabs/myuser.keytab myuser`<br>\n",
    "&ensp;&ensp;&ensp;&ensp;`$ /path/to/anaconda3-4.3.1/bin/python`<br>"
   ]
  },
  {
   "cell_type": "code",
   "execution_count": 1,
   "metadata": {
    "collapsed": true
   },
   "outputs": [],
   "source": [
    "from hdfs import Config\n",
    "#from hdfs.ext.kerberos import KerberosClient # must be imported if autoload.modules = hdfs.ext.kerberos is not in the conf file"
   ]
  },
  {
   "cell_type": "code",
   "execution_count": 2,
   "metadata": {},
   "outputs": [],
   "source": [
    "client = Config().get_client()"
   ]
  },
  {
   "cell_type": "code",
   "execution_count": 3,
   "metadata": {
    "scrolled": true
   },
   "outputs": [
    {
     "data": {
      "text/plain": [
       "[('/user/usertest',\n",
       "  ['.Trash',\n",
       "   '.hiveJars',\n",
       "   '.sparkStaging',\n",
       "   '.staging',\n",
       "   '2015_11_18',\n",
       "   '2015_11_19',\n",
       "   '2015_11_20',\n",
       "   '2015_11_21',\n",
       "   'oozie-oozi',\n",
       "   'score',\n",
       "   'sts',\n",
       "   'test_applis',\n",
       "   'test_hive',\n",
       "   'test_mapred',\n",
       "   'test_oozie_spark',\n",
       "   'train',\n",
       "   'validate'],\n",
       "  ['data.csv', 'goto_sleep.py', 'sample.sh'])]"
      ]
     },
     "execution_count": 3,
     "metadata": {},
     "output_type": "execute_result"
    }
   ],
   "source": [
    "res = client.walk(\"/user/myuser\",depth=1)\n",
    "list(res)"
   ]
  },
  {
   "cell_type": "code",
   "execution_count": null,
   "metadata": {
    "collapsed": true
   },
   "outputs": [],
   "source": []
  }
 ],
 "metadata": {
  "kernelspec": {
   "display_name": "Python 3",
   "language": "python",
   "name": "python3"
  },
  "language_info": {
   "codemirror_mode": {
    "name": "ipython",
    "version": 3
   },
   "file_extension": ".py",
   "mimetype": "text/x-python",
   "name": "python",
   "nbconvert_exporter": "python",
   "pygments_lexer": "ipython3",
   "version": "3.8.5"
  }
 },
 "nbformat": 4,
 "nbformat_minor": 2
}
