{
 "cells": [
  {
   "cell_type": "markdown",
   "metadata": {},
   "source": [
    "# How to use Hive in a Jupyter notebook"
   ]
  },
  {
   "cell_type": "markdown",
   "metadata": {},
   "source": [
    "* [Create a Hive kernel with the ppextensions](#create)\n",
    "* [Open a Hive kernel](#open)\n",
    "* [Load extension and set connection to the hive metastore](#load)\n",
    "* [Use usual hive query commands with the magic command `%hive`](#use)"
   ]
  },
  {
   "cell_type": "markdown",
   "metadata": {},
   "source": [
    "### Create a Hive kernel with the ppextensions<a class=\"anchor\" id=\"create\"></a>\n",
    "\n",
    "1. (that step might be optional) Change/check on Ambari that the hiveserver2 transport is in binary mode: the parameter hive.server2.transport.mode must be set to binary (and not http). Hive listens on port 10000 in binary and on port 10001 in http mode. Check that the machine hosting the hiveserver2 is listening to the port 10000 <br>\n",
    "&ensp;&ensp;&ensp;&ensp;`$ netstat -an | grep 10000`<br>\n",
    "&ensp;&ensp;&ensp;&ensp;`tcp        0      0 0.0.0.0:10000           0.0.0.0:*               LISTEN`\n",
    "<br>\n",
    "\n",
    "1. Connect to the Jupyter machine as the user that will use hive in Jupyter <br>\n",
    "&ensp;&ensp;&ensp;&ensp;`$ su myuser`\n",
    "<br>\n",
    "\n",
    "1. Add environment variables with anaconda directories: in the .bashrc (create if does not exist) add the lines: <br>\n",
    "&ensp;&ensp;&ensp;&ensp;`export CONDA_ENVS_PATH=/path/to/condaenvs/myuser/envs`<br>\n",
    "&ensp;&ensp;&ensp;&ensp;`export CONDA_PKGS_DIRS=/path/to/condaenvs/myuser/pkgs`<br>\n",
    "&ensp;&ensp;&ensp;&ensp;`export PATH=/path/to/anaconda3-4.3.1/bin/:$PATH`\n",
    "<br>\n",
    "\n",
    "1. Open a new terminal or source the .bashrc<br>\n",
    "&ensp;&ensp;&ensp;&ensp;`$ source /home/myuser/.bashrc`\n",
    "<br>\n",
    "\n",
    "1. Give permission to usertest to use the default queue: if we are connected as usertest and execute <br>\n",
    "&ensp;&ensp;&ensp;&ensp;`$ mapred queue -showacls`<br>\n",
    "we must see `SUBMIT_APPLICATIONS` for the default queue.\n",
    "<br>\n",
    "\n",
    "1. Create directories for environments and packages for usertest in the anaconda install.<br>\n",
    "&ensp;&ensp;&ensp;&ensp;`$ cd /path/to/condaenvs/`<br>\n",
    "&ensp;&ensp;&ensp;&ensp;`$ mkdir -p myuser/envs myuser/pkgs`\n",
    "<br>\n",
    "\n",
    "1. Create a conda environment and enter in the environment.<br>\n",
    "&ensp;&ensp;&ensp;&ensp;`$ conda create -n hive_kernel`<br>\n",
    "&ensp;&ensp;&ensp;&ensp;`$ source activate hive_kernel`\n",
    "<br>\n",
    "\t\n",
    "1. Check that the conda command points to conda of the environment. <br>\n",
    "&ensp;&ensp;&ensp;&ensp;`(hive_kernel) $ which conda`<br>\n",
    "&ensp;&ensp;&ensp;&ensp;`/path/to/condaenvs/myuser/envs/hive_kernel/bin/conda`\n",
    "<br>\n",
    "\n",
    "1. Install pip in the environment and check that the command points to the bin of the environment.<br>\n",
    "&ensp;&ensp;&ensp;&ensp;`(hive_kernel) $ conda install pip`<br>\n",
    "&ensp;&ensp;&ensp;&ensp;`...`<br>\n",
    "&ensp;&ensp;&ensp;&ensp;`(hive_kernel) $ which pip`<br>\n",
    "&ensp;&ensp;&ensp;&ensp;`/path/to/condaenvs/myuser/envs/hive_kernel/bin/pip`\n",
    "<br>\n",
    "\n",
    "1. We are going to use pip to install all that we need. If we install several packages with both pip and conda we are going to have compatibility / package management / dependency problems. We only need to install the ppextensions packages (the dependencies will be installed automatically)<br>\n",
    "&ensp;&ensp;&ensp;&ensp;`(hive_kernel) $ pip install ppextensions`<br>\n",
    "In the successfully installed packages we see ipython ipykernel jupyter-console jupyter-core among others, which are packages needed to run the environment on jupyter. We DO NOT (try to) install them again with pip or conda.\n",
    "<br>\n",
    "\n",
    "1. Check that the command ipython points to the bin of the environment and use it to install the environment as a kernel for jupyter for the current user. The environment will be found in jupyter as the kernel named Hive.<br>\n",
    "&ensp;&ensp;&ensp;&ensp;`(hive_kernel) $ which ipython`<br>\n",
    "&ensp;&ensp;&ensp;&ensp;`/hadoop/lab/condaenvs/usertest/envs/hive_kernel/bin/ipython`<br>\n",
    "&ensp;&ensp;&ensp;&ensp;`(hive_kernel) $ /hadoop/lab/condaenvs/usertest/envs/hive_kernel/bin/ipython kernel install --user --name Hive`\n",
    "<br>\n",
    "\n",
    "\n",
    "**TROUBLESHOOTING**\n",
    "\n",
    "If you want to restart the procedure from the beginning (in case of errors), you need to get out of the environment, remove it, and manually remove some packages that are not removed automatically.<br>\n",
    "&ensp;&ensp;&ensp;&ensp;`(hive_kernel) $ source deactivate`<br>\n",
    "&ensp;&ensp;&ensp;&ensp;`$ conda remove --name hive_kernel --all`<br>\n",
    "&ensp;&ensp;&ensp;&ensp;`$ conda env list`<br>\n",
    "&ensp;&ensp;&ensp;&ensp;`--check that Hive is not in the list anymore--`<br>\n",
    "&ensp;&ensp;&ensp;&ensp;`$ ls myuser/pkgs/`<br>\n",
    "&ensp;&ensp;&ensp;&ensp;`$ rm -rf  myuser/pkgs/*`<br>\n"
   ]
  },
  {
   "cell_type": "markdown",
   "metadata": {},
   "source": [
    "### Open a Hive kernel <a class=\"anchor\" id=\"open\"></a>\n",
    "\n",
    "Connect to jupyter with usertest. Click new, a drop down menu appears with the new kernel HiveQl."
   ]
  },
  {
   "cell_type": "markdown",
   "metadata": {},
   "source": [
    "### Load extension and set connection to the hive metastore <a class=\"anchor\" id=\"load\"></a>\n",
    "\n",
    "Load the package for the extensions."
   ]
  },
  {
   "cell_type": "code",
   "execution_count": 1,
   "metadata": {},
   "outputs": [
    {
     "data": {
      "application/javascript": [
       "IPython.CodeCell.options_default.highlight_modes['magic_text/x-sql'] = {'reg':[/^.*%%?.*/]};"
      ]
     },
     "metadata": {},
     "output_type": "display_data"
    }
   ],
   "source": [
    "%load_ext ppextensions.ppmagics"
   ]
  },
  {
   "cell_type": "markdown",
   "metadata": {},
   "source": [
    "Load some configurations for hive. There should be a way to put all that in a conf file somewhere and not having to load it everytime we open a new notebook with the Hive kernel.\n",
    "- `-hs` Machine that hosts the hiveserver2. Check on the host machine what is the form of the principal with \"`klist -kt /etc/security/keytabs/hive.service.keytab`\". If the Hive principal is `hive/machine.my.com@REALM` you need to include .my.com in the address of the `-hs` option, if it is not present don't put it in the `-hs` option (i.e. only machine).\n",
    "- `-p`  Port of the hiveserver2 in binary mode (because we set the hiverser2 transport to binary at the beginning)\n",
    "- `-a`  Authentication mode, `gssapi` for kerberos"
   ]
  },
  {
   "cell_type": "code",
   "execution_count": 2,
   "metadata": {},
   "outputs": [
    {
     "data": {
      "application/vnd.jupyter.widget-view+json": {
       "model_id": "582685ae653546d8bee0567e94e49892",
       "version_major": 2,
       "version_minor": 0
      },
      "text/plain": [
       "HTML(value='')"
      ]
     },
     "metadata": {},
     "output_type": "display_data"
    },
    {
     "data": {
      "text/html": [
       "<table>\n",
       "    <tr>\n",
       "    </tr>\n",
       "</table>"
      ],
      "text/plain": [
       "[]"
      ]
     },
     "execution_count": 2,
     "metadata": {},
     "output_type": "execute_result"
    }
   ],
   "source": [
    "%hive -hs machine.my.com -p 10000 -a gssapi"
   ]
  },
  {
   "cell_type": "markdown",
   "metadata": {},
   "source": [
    "### Use usual hive query commands with the magic command `%hive` <a class=\"anchor\" id=\"use\"></a>"
   ]
  },
  {
   "cell_type": "code",
   "execution_count": 4,
   "metadata": {},
   "outputs": [
    {
     "data": {
      "application/vnd.jupyter.widget-view+json": {
       "model_id": "96c669fed3f74732bac8abf151fea9ae",
       "version_major": 2,
       "version_minor": 0
      },
      "text/plain": [
       "HTML(value='')"
      ]
     },
     "metadata": {},
     "output_type": "display_data"
    },
    {
     "data": {
      "text/html": [
       "<table>\n",
       "    <tr>\n",
       "    </tr>\n",
       "</table>"
      ],
      "text/plain": [
       "[]"
      ]
     },
     "execution_count": 4,
     "metadata": {},
     "output_type": "execute_result"
    }
   ],
   "source": [
    "%hive use default"
   ]
  },
  {
   "cell_type": "code",
   "execution_count": 6,
   "metadata": {},
   "outputs": [
    {
     "data": {
      "application/vnd.jupyter.widget-view+json": {
       "model_id": "00f65230576b4fc5bc3bedac967b4e75",
       "version_major": 2,
       "version_minor": 0
      },
      "text/plain": [
       "HTML(value='')"
      ]
     },
     "metadata": {},
     "output_type": "display_data"
    },
    {
     "data": {
      "text/html": [
       "<table>\n",
       "    <tr>\n",
       "        <th>test.passengerid</th>\n",
       "        <th>test.pclass</th>\n",
       "        <th>test.name</th>\n",
       "        <th>test.sex</th>\n",
       "        <th>test.age</th>\n",
       "        <th>test.sibsp</th>\n",
       "        <th>test.parch</th>\n",
       "        <th>test.ticket</th>\n",
       "        <th>test.fare</th>\n",
       "        <th>test.cabin</th>\n",
       "        <th>test.embarked</th>\n",
       "    </tr>\n",
       "    <tr>\n",
       "        <td>PassengerId</td>\n",
       "        <td>Survived</td>\n",
       "        <td>Pclass</td>\n",
       "        <td>Name</td>\n",
       "        <td>Sex</td>\n",
       "        <td>Age</td>\n",
       "        <td>SibSp</td>\n",
       "        <td>Parch</td>\n",
       "        <td>Ticket</td>\n",
       "        <td>Fare</td>\n",
       "        <td>Cabin</td>\n",
       "    </tr>\n",
       "    <tr>\n",
       "        <td>1</td>\n",
       "        <td>0</td>\n",
       "        <td>3</td>\n",
       "        <td>&quot;Braund</td>\n",
       "        <td> Mr. Owen Harris&quot;</td>\n",
       "        <td>male</td>\n",
       "        <td>22</td>\n",
       "        <td>1</td>\n",
       "        <td>0</td>\n",
       "        <td>A/5 21171</td>\n",
       "        <td>7.25</td>\n",
       "    </tr>\n",
       "    <tr>\n",
       "        <td>2</td>\n",
       "        <td>1</td>\n",
       "        <td>1</td>\n",
       "        <td>&quot;Cumings</td>\n",
       "        <td> Mrs. John Bradley (Florence Briggs Thayer)&quot;</td>\n",
       "        <td>female</td>\n",
       "        <td>38</td>\n",
       "        <td>1</td>\n",
       "        <td>0</td>\n",
       "        <td>PC 17599</td>\n",
       "        <td>71.2833</td>\n",
       "    </tr>\n",
       "    <tr>\n",
       "        <td>3</td>\n",
       "        <td>1</td>\n",
       "        <td>3</td>\n",
       "        <td>&quot;Heikkinen</td>\n",
       "        <td> Miss. Laina&quot;</td>\n",
       "        <td>female</td>\n",
       "        <td>26</td>\n",
       "        <td>0</td>\n",
       "        <td>0</td>\n",
       "        <td>STON/O2. 3101282</td>\n",
       "        <td>7.925</td>\n",
       "    </tr>\n",
       "    <tr>\n",
       "        <td>4</td>\n",
       "        <td>1</td>\n",
       "        <td>1</td>\n",
       "        <td>&quot;Futrelle</td>\n",
       "        <td> Mrs. Jacques Heath (Lily May Peel)&quot;</td>\n",
       "        <td>female</td>\n",
       "        <td>35</td>\n",
       "        <td>1</td>\n",
       "        <td>0</td>\n",
       "        <td>113803</td>\n",
       "        <td>53.1</td>\n",
       "    </tr>\n",
       "    <tr>\n",
       "        <td>5</td>\n",
       "        <td>0</td>\n",
       "        <td>3</td>\n",
       "        <td>&quot;Allen</td>\n",
       "        <td> Mr. William Henry&quot;</td>\n",
       "        <td>male</td>\n",
       "        <td>35</td>\n",
       "        <td>0</td>\n",
       "        <td>0</td>\n",
       "        <td>373450</td>\n",
       "        <td>8.05</td>\n",
       "    </tr>\n",
       "    <tr>\n",
       "        <td>6</td>\n",
       "        <td>0</td>\n",
       "        <td>3</td>\n",
       "        <td>&quot;Moran</td>\n",
       "        <td> Mr. James&quot;</td>\n",
       "        <td>male</td>\n",
       "        <td></td>\n",
       "        <td>0</td>\n",
       "        <td>0</td>\n",
       "        <td>330877</td>\n",
       "        <td>8.4583</td>\n",
       "    </tr>\n",
       "    <tr>\n",
       "        <td>7</td>\n",
       "        <td>0</td>\n",
       "        <td>1</td>\n",
       "        <td>&quot;McCarthy</td>\n",
       "        <td> Mr. Timothy J&quot;</td>\n",
       "        <td>male</td>\n",
       "        <td>54</td>\n",
       "        <td>0</td>\n",
       "        <td>0</td>\n",
       "        <td>17463</td>\n",
       "        <td>51.8625</td>\n",
       "    </tr>\n",
       "    <tr>\n",
       "        <td>8</td>\n",
       "        <td>0</td>\n",
       "        <td>3</td>\n",
       "        <td>&quot;Palsson</td>\n",
       "        <td> Master. Gosta Leonard&quot;</td>\n",
       "        <td>male</td>\n",
       "        <td>2</td>\n",
       "        <td>3</td>\n",
       "        <td>1</td>\n",
       "        <td>349909</td>\n",
       "        <td>21.075</td>\n",
       "    </tr>\n",
       "    <tr>\n",
       "        <td>9</td>\n",
       "        <td>1</td>\n",
       "        <td>3</td>\n",
       "        <td>&quot;Johnson</td>\n",
       "        <td> Mrs. Oscar W (Elisabeth Vilhelmina Berg)&quot;</td>\n",
       "        <td>female</td>\n",
       "        <td>27</td>\n",
       "        <td>0</td>\n",
       "        <td>2</td>\n",
       "        <td>347742</td>\n",
       "        <td>11.1333</td>\n",
       "    </tr>\n",
       "</table>"
      ],
      "text/plain": [
       "[('PassengerId',\n",
       "  'Survived',\n",
       "  'Pclass',\n",
       "  'Name',\n",
       "  'Sex',\n",
       "  'Age',\n",
       "  'SibSp',\n",
       "  'Parch',\n",
       "  'Ticket',\n",
       "  'Fare',\n",
       "  'Cabin'),\n",
       " ('1',\n",
       "  '0',\n",
       "  '3',\n",
       "  '\"Braund',\n",
       "  ' Mr. Owen Harris\"',\n",
       "  'male',\n",
       "  '22',\n",
       "  '1',\n",
       "  '0',\n",
       "  'A/5 21171',\n",
       "  '7.25'),\n",
       " ('2',\n",
       "  '1',\n",
       "  '1',\n",
       "  '\"Cumings',\n",
       "  ' Mrs. John Bradley (Florence Briggs Thayer)\"',\n",
       "  'female',\n",
       "  '38',\n",
       "  '1',\n",
       "  '0',\n",
       "  'PC 17599',\n",
       "  '71.2833'),\n",
       " ('3',\n",
       "  '1',\n",
       "  '3',\n",
       "  '\"Heikkinen',\n",
       "  ' Miss. Laina\"',\n",
       "  'female',\n",
       "  '26',\n",
       "  '0',\n",
       "  '0',\n",
       "  'STON/O2. 3101282',\n",
       "  '7.925'),\n",
       " ('4',\n",
       "  '1',\n",
       "  '1',\n",
       "  '\"Futrelle',\n",
       "  ' Mrs. Jacques Heath (Lily May Peel)\"',\n",
       "  'female',\n",
       "  '35',\n",
       "  '1',\n",
       "  '0',\n",
       "  '113803',\n",
       "  '53.1'),\n",
       " ('5',\n",
       "  '0',\n",
       "  '3',\n",
       "  '\"Allen',\n",
       "  ' Mr. William Henry\"',\n",
       "  'male',\n",
       "  '35',\n",
       "  '0',\n",
       "  '0',\n",
       "  '373450',\n",
       "  '8.05'),\n",
       " ('6',\n",
       "  '0',\n",
       "  '3',\n",
       "  '\"Moran',\n",
       "  ' Mr. James\"',\n",
       "  'male',\n",
       "  '',\n",
       "  '0',\n",
       "  '0',\n",
       "  '330877',\n",
       "  '8.4583'),\n",
       " ('7',\n",
       "  '0',\n",
       "  '1',\n",
       "  '\"McCarthy',\n",
       "  ' Mr. Timothy J\"',\n",
       "  'male',\n",
       "  '54',\n",
       "  '0',\n",
       "  '0',\n",
       "  '17463',\n",
       "  '51.8625'),\n",
       " ('8',\n",
       "  '0',\n",
       "  '3',\n",
       "  '\"Palsson',\n",
       "  ' Master. Gosta Leonard\"',\n",
       "  'male',\n",
       "  '2',\n",
       "  '3',\n",
       "  '1',\n",
       "  '349909',\n",
       "  '21.075'),\n",
       " ('9',\n",
       "  '1',\n",
       "  '3',\n",
       "  '\"Johnson',\n",
       "  ' Mrs. Oscar W (Elisabeth Vilhelmina Berg)\"',\n",
       "  'female',\n",
       "  '27',\n",
       "  '0',\n",
       "  '2',\n",
       "  '347742',\n",
       "  '11.1333')]"
      ]
     },
     "execution_count": 6,
     "metadata": {},
     "output_type": "execute_result"
    }
   ],
   "source": [
    "%hive select * from test limit 10"
   ]
  },
  {
   "cell_type": "code",
   "execution_count": null,
   "metadata": {
    "collapsed": true
   },
   "outputs": [],
   "source": []
  }
 ],
 "metadata": {
  "kernelspec": {
   "display_name": "Python 3",
   "language": "python",
   "name": "python3"
  },
  "language_info": {
   "codemirror_mode": {
    "name": "ipython",
    "version": 3
   },
   "file_extension": ".py",
   "mimetype": "text/x-python",
   "name": "python",
   "nbconvert_exporter": "python",
   "pygments_lexer": "ipython3",
   "version": "3.8.5"
  }
 },
 "nbformat": 4,
 "nbformat_minor": 2
}
